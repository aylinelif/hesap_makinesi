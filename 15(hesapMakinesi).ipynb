{
 "cells": [
  {
   "cell_type": "code",
   "execution_count": null,
   "id": "f1979ae1-9043-4aac-a774-219755047928",
   "metadata": {},
   "outputs": [
    {
     "name": "stdin",
     "output_type": "stream",
     "text": [
      "İlk sayıyı giriniz:  34\n",
      "İkinci sayıyı giriniz:  32\n",
      "İşleminizi seçiniz (+, -, *, /):  fjd\n"
     ]
    },
    {
     "name": "stdout",
     "output_type": "stream",
     "text": [
      "Lütfen şu işlemlerden birini seçiniz: + - * /\n",
      "None\n"
     ]
    },
    {
     "name": "stdin",
     "output_type": "stream",
     "text": [
      "İlk sayıyı giriniz:  90\n",
      "İkinci sayıyı giriniz:  80\n",
      "İşleminizi seçiniz (+, -, *, /):  -\n"
     ]
    },
    {
     "name": "stdout",
     "output_type": "stream",
     "text": [
      "90 - 80 = 10\n"
     ]
    },
    {
     "name": "stdin",
     "output_type": "stream",
     "text": [
      "İlk sayıyı giriniz:  dsksjd\n"
     ]
    },
    {
     "name": "stdout",
     "output_type": "stream",
     "text": [
      "Lütfen sayıları doğru giriniz.\n",
      "Lütfen sayıları doğru giriniz.\n"
     ]
    }
   ],
   "source": [
    "def hesapla(a, b, islem):\n",
    "    if islem not in \"+-*/\":\n",
    "        print(\"Lütfen şu işlemlerden birini seçiniz: + - * /\")\n",
    "        return  # fonksiyonu burada durdur\n",
    "\n",
    "    if islem == \"+\":\n",
    "        return str(a) + \" + \" + str(b) + \" = \" + str(a + b)\n",
    "    if islem == \"-\":\n",
    "        return str(a) + \" - \" + str(b) + \" = \" + str(a - b)\n",
    "    if islem == \"*\":\n",
    "        return str(a) + \" * \" + str(b) + \" = \" + str(a * b)\n",
    "    if islem == \"/\":\n",
    "        return str(a) + \" / \" + str(b) + \" = \" + str(a / b)\n",
    "\n",
    "while True:\n",
    "    try:\n",
    "        a = int(input(\"İlk sayıyı giriniz: \"))\n",
    "        b = int(input(\"İkinci sayıyı giriniz: \"))\n",
    "        islem = input(\"İşleminizi seçiniz (+, -, *, /): \")\n",
    "        print(hesapla(a, b, islem))\n",
    "    except:\n",
    "        print(\"Lütfen sayıları doğru giriniz.\")\n"
   ]
  },
  {
   "cell_type": "code",
   "execution_count": null,
   "id": "4712b977-3dc7-4384-b939-6d0e0dc21f86",
   "metadata": {},
   "outputs": [],
   "source": []
  }
 ],
 "metadata": {
  "kernelspec": {
   "display_name": "Python [conda env:base] *",
   "language": "python",
   "name": "conda-base-py"
  },
  "language_info": {
   "codemirror_mode": {
    "name": "ipython",
    "version": 3
   },
   "file_extension": ".py",
   "mimetype": "text/x-python",
   "name": "python",
   "nbconvert_exporter": "python",
   "pygments_lexer": "ipython3",
   "version": "3.13.5"
  }
 },
 "nbformat": 4,
 "nbformat_minor": 5
}
